{
 "cells": [
  {
   "cell_type": "code",
   "execution_count": 1,
   "metadata": {},
   "outputs": [],
   "source": [
    "import sys\n",
    "import os\n",
    "import json\n",
    "sys.path.append(os.path.abspath(os.path.join(os.getcwd(), \"..\")))\n",
    "from overpass_client import OverpassClient\n"
   ]
  },
  {
   "cell_type": "markdown",
   "metadata": {},
   "source": [
    "### Download roads and tram stops using overpass client"
   ]
  },
  {
   "cell_type": "code",
   "execution_count": 2,
   "metadata": {},
   "outputs": [],
   "source": [
    "result = OverpassClient.get_tram_stops_and_crossroads(\"Kraków\")\n",
    "\n",
    "ways_data = []\n",
    "for way in result.ways:\n",
    "    ways_data.append({\n",
    "        \"id\": way.id,\n",
    "        \"nodes\": way._node_ids,\n",
    "        \"tags\": way.tags,  \n",
    "    })\n",
    "\n",
    "tram_stops = [\n",
    "    node for node in result.nodes\n",
    "    if node.tags.get(\"railway\") == \"tram_stop\"\n",
    "]\n",
    "\n",
    "tram_stops_data = [\n",
    "    {\"id\": node.id, \"lat\": float(node.lat), \"lon\": float(node.lon), \"name\": node.tags.get(\"name\")}\n",
    "    for node in tram_stops\n",
    "]\n",
    "\n",
    "\n",
    "with open(\"tram_ways.json\", \"w\", encoding=\"utf-8\") as f:\n",
    "    json.dump(ways_data, f, indent=4, ensure_ascii=False)\n",
    "\n",
    "with open(\"tram_stops.json\", \"w\", encoding=\"utf-8\") as f:\n",
    "    json.dump(tram_stops_data, f, indent=4, ensure_ascii=False)"
   ]
  },
  {
   "cell_type": "code",
   "execution_count": null,
   "metadata": {},
   "outputs": [],
   "source": []
  }
 ],
 "metadata": {
  "kernelspec": {
   "display_name": ".venv",
   "language": "python",
   "name": "python3"
  },
  "language_info": {
   "codemirror_mode": {
    "name": "ipython",
    "version": 3
   },
   "file_extension": ".py",
   "mimetype": "text/x-python",
   "name": "python",
   "nbconvert_exporter": "python",
   "pygments_lexer": "ipython3",
   "version": "3.12.8"
  }
 },
 "nbformat": 4,
 "nbformat_minor": 2
}
